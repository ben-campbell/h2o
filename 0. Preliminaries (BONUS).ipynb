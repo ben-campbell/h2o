{
 "cells": [
  {
   "cell_type": "markdown",
   "metadata": {},
   "source": [
    "<h1 style=\"display: inline;\" >0. Preliminaries (BONUS)"
   ]
  },
  {
   "cell_type": "markdown",
   "metadata": {},
   "source": [
    "Here we go over the prerequisites that are required to run and install the following examples from scratch. However, these notebooks are currently hosted on nodes where this has already been done — so you shouldn't need to replicate:\n",
    "\n",
    "**Setting up a test environment:**\n",
    "\n",
    "We set up a test environment using two AWS EC2 c4.x nodes, so that we could have the minimal cluster for testing H2O. Basic programs that are needed:\n",
    "\n",
    "~~~~\n",
    "$ sudo yum -y update\n",
    "$ sudo yum -y install java-1.7.0-openjdk*\n",
    "$ sudo rpm -ivh https://dl.fedoraproject.org/pub/epel/epel-release-latest-7.noarch.rpm\n",
    "$ sudo yum -y install gcc\n",
    "$ sudo yum -y install unzip\n",
    "$ sudo yum -y install wget\n",
    "~~~~"
   ]
  },
  {
   "cell_type": "markdown",
   "metadata": {},
   "source": [
    "** Setting up Jupyter notebooks:**\n",
    "\n",
    "```\n",
    "$ sudo yum jupyter\n",
    "$ jupyter notebook --generate-config\n",
    "```\n",
    "Then, in the file `.jupyter/jupyter_notebook_config.py`, set the following to allow remote access of Jupyter:\n",
    "\n",
    "```c.NotebookApp.allow_origin = '*' #allow all origins\n",
    "c.NotebookApp.ip = '0.0.0.0' # listen on all IPs\n",
    "```"
   ]
  },
  {
   "cell_type": "markdown",
   "metadata": {},
   "source": [
    "** Installing Python packages:**\n",
    "\n",
    "```\n",
    "$ sudo yum -y install python-pip\n",
    "$ sudo pip install --upgrade pip\n",
    "$ sudo yum -y install python-devel\n",
    "$ sudo pip install requests tabulate scikit-learn colorama future\n",
    "```"
   ]
  },
  {
   "cell_type": "markdown",
   "metadata": {},
   "source": [
    "**Installing R: **\n",
    "\n",
    "```\n",
    "$ sudo yum install R\n",
    "```\n",
    "You may need to manually install some repos if you encounter dependency problems; see <a href=https://superuser.com/questions/841270/installing-r-on-rhel-7>here.</a> \n",
    "\n",
    "To make R kernel available to jupyter, in R:\n",
    "\n",
    "```\n",
    "install.packages(c('repr', 'IRdisplay', 'evaluate', 'crayon', 'pbdZMQ', 'devtools', 'uuid', 'digest'))\n",
    "devtools::install_github('IRkernel/IRkernel')\n",
    "IRkernel::installspec()\n",
    "```\n",
    "\n",
    "To install necessary R packages for the examples, for example:\n",
    "\n",
    "```\n",
    "install.packages('GGally')\n",
    "```"
   ]
  },
  {
   "cell_type": "markdown",
   "metadata": {},
   "source": [
    "** Installing H2O:**\n",
    "\n",
    "Follow the instructions <a href=\"https://h2o-release.s3.amazonaws.com/h2o/rel-weierstrass/6/index.html\">here</a> for 'Download and Run', 'Install in Python', and 'Install in R.'\n",
    "\n",
    "To install a multi-node H2O cluster, create a file 'flatfile.txt' containing the <em>private</em> IP addresses and port:\n",
    "\n",
    "```\n",
    "172.31.43.155:54321\n",
    "172.31.47.194:54321\n",
    "```\n",
    "\n",
    "Then start H2O on both nodes using:\n",
    "\n",
    "```\n",
    "$ java -jar h2o.jar -flatfile flatfile.txt\n",
    "```"
   ]
  },
  {
   "cell_type": "markdown",
   "metadata": {},
   "source": [
    "**Installing Hadoop: **\n",
    "\n",
    "For the most part I followed the instructions <a href=\"https://dzone.com/articles/setting-up-multi-node-hadoop-cluster-just-got-easy-2\">here</a>.\n",
    "\n",
    "To transfer files from the local filesystem to HDFS:\n",
    "\n",
    "```\n",
    "$ hadoop fs -put file.csv /dest_folder/\n",
    "```"
   ]
  },
  {
   "cell_type": "markdown",
   "metadata": {},
   "source": [
    "**Reading and writing from H2O to Hadoop:**"
   ]
  },
  {
   "cell_type": "markdown",
   "metadata": {},
   "source": [
    "Assuming our H2O nodes are still running, the following should recognize a two-node cluster: "
   ]
  },
  {
   "cell_type": "code",
   "execution_count": 9,
   "metadata": {},
   "outputs": [
    {
     "name": "stdout",
     "output_type": "stream",
     "text": [
      " Connection successful!\n",
      "\n",
      "R is connected to the H2O cluster: \n",
      "    H2O cluster uptime:         14 seconds 690 milliseconds \n",
      "    H2O cluster version:        3.14.0.6 \n",
      "    H2O cluster version age:    9 days  \n",
      "    H2O cluster name:           ec2-user \n",
      "    H2O cluster total nodes:    2 \n",
      "    H2O cluster total memory:   1.55 GB \n",
      "    H2O cluster total cores:    4 \n",
      "    H2O cluster allowed cores:  4 \n",
      "    H2O cluster healthy:        TRUE \n",
      "    H2O Connection ip:          localhost \n",
      "    H2O Connection port:        54321 \n",
      "    H2O Connection proxy:       NA \n",
      "    H2O Internal Security:      FALSE \n",
      "    H2O API Extensions:         XGBoost, Algos, AutoML, Core V3, Core V4 \n",
      "    R Version:                  R version 3.4.1 (2017-06-30) \n",
      "\n"
     ]
    }
   ],
   "source": [
    "library(h2o)\n",
    "h2o.init(nthreads = -1)"
   ]
  },
  {
   "cell_type": "markdown",
   "metadata": {},
   "source": [
    "Here we import from HDFS, translate the iris lengths from cm to inches, and export back to HDFS:"
   ]
  },
  {
   "cell_type": "code",
   "execution_count": 2,
   "metadata": {},
   "outputs": [
    {
     "name": "stdout",
     "output_type": "stream",
     "text": [
      "  |======================================================================| 100%\n"
     ]
    }
   ],
   "source": [
    "iris_hex = h2o.importFile(\"hdfs://ec2-34-204-73-232.compute-1.amazonaws.com:9000/iris.csv\")\n"
   ]
  },
  {
   "cell_type": "code",
   "execution_count": 3,
   "metadata": {
    "scrolled": true
   },
   "outputs": [
    {
     "data": {
      "text/plain": [
       "  sepal_length sepal_width petal_length petal_width species\n",
       "1     2.007874    1.377953    0.5511811  0.07874016  setosa\n",
       "2     1.929134    1.181102    0.5511811  0.07874016  setosa\n",
       "3     1.850394    1.259843    0.5118110  0.07874016  setosa\n",
       "4     1.811024    1.220472    0.5905512  0.07874016  setosa\n",
       "5     1.968504    1.417323    0.5511811  0.07874016  setosa\n",
       "6     2.125984    1.535433    0.6692913  0.15748031  setosa\n",
       "\n",
       "[150 rows x 5 columns] "
      ]
     },
     "metadata": {},
     "output_type": "display_data"
    }
   ],
   "source": [
    "iris_hex['sepal_length'] = iris_hex['sepal_length'] / 2.54\n",
    "iris_hex['petal_length'] = iris_hex['petal_length'] / 2.54\n",
    "iris_hex['sepal_width'] = iris_hex['sepal_width'] / 2.54\n",
    "iris_hex['petal_width'] = iris_hex['petal_width'] / 2.54\n",
    "iris_hex"
   ]
  },
  {
   "cell_type": "code",
   "execution_count": 6,
   "metadata": {},
   "outputs": [
    {
     "name": "stdout",
     "output_type": "stream",
     "text": [
      "  |======================================================================| 100%\n"
     ]
    }
   ],
   "source": [
    "h2o.exportFile(iris_hex, \"hdfs://ec2-34-204-73-232.compute-1.amazonaws.com:9000/iris_inches.csv\", force=TRUE)"
   ]
  },
  {
   "cell_type": "code",
   "execution_count": null,
   "metadata": {},
   "outputs": [],
   "source": []
  }
 ],
 "metadata": {
  "kernelspec": {
   "display_name": "R",
   "language": "R",
   "name": "ir"
  },
  "language_info": {
   "codemirror_mode": "r",
   "file_extension": ".r",
   "mimetype": "text/x-r-source",
   "name": "R",
   "pygments_lexer": "r",
   "version": "3.4.1"
  }
 },
 "nbformat": 4,
 "nbformat_minor": 2
}
