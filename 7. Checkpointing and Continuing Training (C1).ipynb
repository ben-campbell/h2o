{
 "cells": [
  {
   "cell_type": "markdown",
   "metadata": {},
   "source": [
    "<div align=center><h1 style=\"display: inline;\" >7. Checkpointing and Continuing Training (C1)</h1><img style=\"display: inline;\" src=http://industrypulse.com/wp-content/uploads/2017/05/h2oai-1068x1068.png width=100></div>"
   ]
  },
  {
   "cell_type": "markdown",
   "metadata": {},
   "source": [
    "It is often useful to continue training a model sometime in the future. For instance, this could occur when new data is recieved. Or, in a complex model (e.g. a deep neural net), training might have to be halted before completion. In that case, it's useful to have the ability to pick up where you left off.\n",
    "\n",
    "Here we demonsrate how to save a trained H2O model, load it at a later time, and continue training.\n",
    "\n",
    "**Loading the data:**"
   ]
  },
  {
   "cell_type": "code",
   "execution_count": 1,
   "metadata": {},
   "outputs": [
    {
     "name": "stderr",
     "output_type": "stream",
     "text": [
      "\n",
      "----------------------------------------------------------------------\n",
      "\n",
      "Your next step is to start H2O:\n",
      "    > h2o.init()\n",
      "\n",
      "For H2O package documentation, ask for help:\n",
      "    > ??h2o\n",
      "\n",
      "After starting H2O, you can use the Web UI at http://localhost:54321\n",
      "For more information visit http://docs.h2o.ai\n",
      "\n",
      "----------------------------------------------------------------------\n",
      "\n",
      "\n",
      "Attaching package: ‘h2o’\n",
      "\n",
      "The following objects are masked from ‘package:stats’:\n",
      "\n",
      "    cor, sd, var\n",
      "\n",
      "The following objects are masked from ‘package:base’:\n",
      "\n",
      "    &&, %*%, %in%, ||, apply, as.factor, as.numeric, colnames,\n",
      "    colnames<-, ifelse, is.character, is.factor, is.numeric, log,\n",
      "    log10, log1p, log2, round, signif, trunc\n",
      "\n"
     ]
    },
    {
     "name": "stdout",
     "output_type": "stream",
     "text": [
      " Connection successful!\n",
      "\n",
      "R is connected to the H2O cluster: \n",
      "    H2O cluster uptime:         7 minutes 2 seconds \n",
      "    H2O cluster version:        3.14.0.6 \n",
      "    H2O cluster version age:    9 days  \n",
      "    H2O cluster name:           H2O_started_from_R_ec2-user_zal006 \n",
      "    H2O cluster total nodes:    1 \n",
      "    H2O cluster total memory:   0.76 GB \n",
      "    H2O cluster total cores:    2 \n",
      "    H2O cluster allowed cores:  2 \n",
      "    H2O cluster healthy:        TRUE \n",
      "    H2O Connection ip:          localhost \n",
      "    H2O Connection port:        54321 \n",
      "    H2O Connection proxy:       NA \n",
      "    H2O Internal Security:      FALSE \n",
      "    H2O API Extensions:         XGBoost, Algos, AutoML, Core V3, Core V4 \n",
      "    R Version:                  R version 3.4.1 (2017-06-30) \n",
      "\n",
      "  |======================================================================| 100%\n"
     ]
    }
   ],
   "source": [
    "library(h2o)\n",
    "\n",
    "h2o.init(nthreads=-1)\n",
    "airlines_path = \"../data/allyears2k.csv\"\n",
    "air.hex = h2o.importFile(path = airlines_path, destination_frame = \"air.hex\")\n",
    "cat_features <- c(\"Month\", \"DayofMonth\", \"DayOfWeek\")\n",
    "num_cat_features <- length(cat_features)\n",
    "for (i in 1:num_cat_features) {\n",
    "   air.hex[cat_features[i]] <- as.factor(air.hex[cat_features[i]])\n",
    "}\n",
    "\n",
    "# Select features and target\n",
    "features <- c(cat_features, \"UniqueCarrier\", \"Distance\", \"Dest\")\n",
    "target <- \"IsDepDelayed\"\n",
    "\n",
    "# Split frame\n",
    "air.split <- h2o.splitFrame(air.hex, ratios = 0.8, seed = 12345)\n",
    "air.train <- air.split[[1]]\n",
    "air.valid <- air.split[[2]]"
   ]
  },
  {
   "cell_type": "markdown",
   "metadata": {},
   "source": [
    "**Training the model:** Let's start by training a gradient boosting machine to "
   ]
  },
  {
   "cell_type": "code",
   "execution_count": 2,
   "metadata": {},
   "outputs": [
    {
     "name": "stdout",
     "output_type": "stream",
     "text": [
      "  |======================================================================| 100%\n"
     ]
    }
   ],
   "source": [
    "gbm_model <- h2o.gbm(x=features, y=target, model_id='gbm_model', training_frame=air.train, validation_frame=air.valid, ntrees=1000, score_each_iteration=TRUE, stopping_rounds=3, stopping_metric='logloss', stopping_tolerance=0.01)\n"
   ]
  },
  {
   "cell_type": "code",
   "execution_count": 3,
   "metadata": {},
   "outputs": [
    {
     "data": {},
     "metadata": {},
     "output_type": "display_data"
    },
    {
     "data": {
      "image/png": "[encoded data removed]",
      "text/plain": [
       "plot without title"
      ]
     },
     "metadata": {},
     "output_type": "display_data"
    }
   ],
   "source": [
    "library(repr)\n",
    "library(ggplot2)\n",
    "options(repr.plot.width=4, repr.plot.height=4)\n",
    "plot_df <- gbm_model@model$scoring_history[c('number_of_trees','validation_logloss')]\n",
    "ggplot(aes(x = number_of_trees, y = validation_logloss), data = plot_df) + geom_line(color='red')"
   ]
  },
  {
   "cell_type": "markdown",
   "metadata": {},
   "source": [
    "The stopping tolerance of 0.01 causes the training to abort prematurely, when the validation logloss (moving average) fails to exceed this amount."
   ]
  },
  {
   "cell_type": "code",
   "execution_count": 4,
   "metadata": {},
   "outputs": [
    {
     "data": {
      "text/html": [
       "13"
      ],
      "text/latex": [
       "13"
      ],
      "text/markdown": [
       "13"
      ],
      "text/plain": [
       "[1] 13"
      ]
     },
     "metadata": {},
     "output_type": "display_data"
    }
   ],
   "source": [
    "ntrees_gbm_model <- gbm_model@model$model_summary[\"number_of_trees\"][1,1]\n",
    "ntrees_gbm_model"
   ]
  },
  {
   "cell_type": "markdown",
   "metadata": {},
   "source": [
    "Now we save the model, restart H2O, and load the model for additional training:"
   ]
  },
  {
   "cell_type": "code",
   "execution_count": 5,
   "metadata": {},
   "outputs": [
    {
     "data": {
      "text/html": [
       "'/home/ec2-user/notebooks/model1/gbm_model'"
      ],
      "text/latex": [
       "'/home/ec2-user/notebooks/model1/gbm\\_model'"
      ],
      "text/markdown": [
       "'/home/ec2-user/notebooks/model1/gbm_model'"
      ],
      "text/plain": [
       "[1] \"/home/ec2-user/notebooks/model1/gbm_model\""
      ]
     },
     "metadata": {},
     "output_type": "display_data"
    }
   ],
   "source": [
    "h2o.saveModel(gbm_model, path=\"model1\", force=TRUE)"
   ]
  },
  {
   "cell_type": "code",
   "execution_count": 6,
   "metadata": {},
   "outputs": [
    {
     "name": "stdout",
     "output_type": "stream",
     "text": [
      "Are you sure you want to shutdown the H2O instance running at http://localhost:54321/ (Y/N)? Y\n"
     ]
    }
   ],
   "source": [
    "h2o.shutdown()"
   ]
  },
  {
   "cell_type": "code",
   "execution_count": 7,
   "metadata": {},
   "outputs": [
    {
     "name": "stdout",
     "output_type": "stream",
     "text": [
      "\n",
      "H2O is not running yet, starting it now...\n",
      "\n",
      "Note:  In case of errors look at the following log files:\n",
      "    /tmp/Rtmph1LqXT/h2o_ec2_user_started_from_r.out\n",
      "    /tmp/Rtmph1LqXT/h2o_ec2_user_started_from_r.err\n",
      "\n",
      "\n",
      "Starting H2O JVM and connecting: .. Connection successful!\n",
      "\n",
      "R is connected to the H2O cluster: \n",
      "    H2O cluster uptime:         1 seconds 938 milliseconds \n",
      "    H2O cluster version:        3.14.0.6 \n",
      "    H2O cluster version age:    9 days  \n",
      "    H2O cluster name:           H2O_started_from_R_ec2-user_lle912 \n",
      "    H2O cluster total nodes:    1 \n",
      "    H2O cluster total memory:   0.78 GB \n",
      "    H2O cluster total cores:    2 \n",
      "    H2O cluster allowed cores:  2 \n",
      "    H2O cluster healthy:        TRUE \n",
      "    H2O Connection ip:          localhost \n",
      "    H2O Connection port:        54321 \n",
      "    H2O Connection proxy:       NA \n",
      "    H2O Internal Security:      FALSE \n",
      "    H2O API Extensions:         XGBoost, Algos, AutoML, Core V3, Core V4 \n",
      "    R Version:                  R version 3.4.1 (2017-06-30) \n",
      "\n",
      "  |======================================================================| 100%\n"
     ]
    }
   ],
   "source": [
    "library(h2o)\n",
    "\n",
    "h2o.init(nthreads=-1)\n",
    "airlines_path = \"../data/allyears2k.csv\"\n",
    "air.hex = h2o.importFile(path = airlines_path, destination_frame = \"air.hex\")\n",
    "cat_features <- c(\"Month\", \"DayofMonth\", \"DayOfWeek\")\n",
    "num_cat_features <- length(cat_features)\n",
    "for (i in 1:num_cat_features) {\n",
    "   air.hex[cat_features[i]] <- as.factor(air.hex[cat_features[i]])\n",
    "}\n",
    "\n",
    "# Select features and target\n",
    "features <- c(cat_features, \"UniqueCarrier\", \"Distance\", \"Dest\")\n",
    "target <- \"IsDepDelayed\"\n",
    "\n",
    "# Split frame\n",
    "air.split <- h2o.splitFrame(air.hex, ratios = 0.8, seed = 12345)\n",
    "air.train <- air.split[[1]]\n",
    "air.valid <- air.split[[2]]"
   ]
  },
  {
   "cell_type": "code",
   "execution_count": 8,
   "metadata": {},
   "outputs": [],
   "source": [
    "gbm_model <- h2o.loadModel('model1/gbm_model')\n",
    "ntrees_gbm_model <- as.numeric(gbm_model@model$model_summary[\"number_of_trees\"])"
   ]
  },
  {
   "cell_type": "code",
   "execution_count": 18,
   "metadata": {},
   "outputs": [
    {
     "name": "stdout",
     "output_type": "stream",
     "text": [
      "  |======================================================================| 100%\n"
     ]
    }
   ],
   "source": [
    "gbm_model_checkpoint <- h2o.gbm(x=features, y=target, training_frame=air.train, model_id='gbm_model_checkpoint', validation_frame=air.valid, checkpoint='gbm_model', ntrees=100+ntrees_gbm_model, score_each_iteration=TRUE)"
   ]
  },
  {
   "cell_type": "code",
   "execution_count": 66,
   "metadata": {},
   "outputs": [
    {
     "data": {},
     "metadata": {},
     "output_type": "display_data"
    },
    {
     "data": {
      "image/png": "[encoded data removed]",
      "text/plain": [
       "plot without title"
      ]
     },
     "metadata": {},
     "output_type": "display_data"
    }
   ],
   "source": [
    "ggplot(data = gbm_model_checkpoint@model$scoring_history, aes(x = number_of_trees, y = validation_logloss)) + geom_line(color='red')"
   ]
  },
  {
   "cell_type": "markdown",
   "metadata": {},
   "source": [
    "Here are the validation metrics after the second round of training:"
   ]
  },
  {
   "cell_type": "code",
   "execution_count": 54,
   "metadata": {},
   "outputs": [
    {
     "data": {
      "text/plain": [
       "H2OBinomialMetrics: gbm\n",
       "** Reported on validation data. **\n",
       "\n",
       "MSE:  0.2120023\n",
       "RMSE:  0.4604371\n",
       "LogLoss:  0.612014\n",
       "Mean Per-Class Error:  0.3844789\n",
       "AUC:  0.7225382\n",
       "Gini:  0.4450764\n",
       "\n",
       "Confusion Matrix (vertical: actual; across: predicted) for F1-optimal threshold:\n",
       "         NO  YES    Error        Rate\n",
       "NO     1441 2713 0.653105  =2713/4154\n",
       "YES     543 4144 0.115852   =543/4687\n",
       "Totals 1984 6857 0.368284  =3256/8841\n",
       "\n",
       "Maximum Metrics: Maximum metrics at their respective thresholds\n",
       "                        metric threshold    value idx\n",
       "1                       max f1  0.351844 0.717949 293\n",
       "2                       max f2  0.172066 0.851087 376\n",
       "3                 max f0point5  0.545724 0.687281 188\n",
       "4                 max accuracy  0.507095 0.665196 210\n",
       "5                max precision  0.983808 1.000000   0\n",
       "6                   max recall  0.056943 1.000000 399\n",
       "7              max specificity  0.983808 1.000000   0\n",
       "8             max absolute_mcc  0.530868 0.330563 197\n",
       "9   max min_per_class_accuracy  0.519976 0.664818 203\n",
       "10 max mean_per_class_accuracy  0.530868 0.665555 197\n",
       "\n",
       "Gains/Lift Table: Extract with `h2o.gainsLift(<model>, <data>)` or `h2o.gainsLift(<model>, valid=<T/F>, xval=<T/F>)`"
      ]
     },
     "metadata": {},
     "output_type": "display_data"
    }
   ],
   "source": [
    "gbm_model_checkpoint@model$validation_metrics"
   ]
  }
 ],
 "metadata": {
  "kernelspec": {
   "display_name": "R",
   "language": "R",
   "name": "ir"
  },
  "language_info": {
   "codemirror_mode": "r",
   "file_extension": ".r",
   "mimetype": "text/x-r-source",
   "name": "R",
   "pygments_lexer": "r",
   "version": "3.4.1"
  }
 },
 "nbformat": 4,
 "nbformat_minor": 2
}
