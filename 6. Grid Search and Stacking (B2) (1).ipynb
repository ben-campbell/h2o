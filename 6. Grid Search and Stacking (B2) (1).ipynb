{
 "cells": [
  {
   "cell_type": "markdown",
   "metadata": {},
   "source": [
    "<h1 style=\"display: inline;\" >6. Grid Search and Stacking (B2)\n"
   ]
  },
  {
   "cell_type": "markdown",
   "metadata": {},
   "source": [
    "The performance of most machine learning models depends on the settings of several hyperparameters. Optimizing model performance is generally a manner of tuning these hyperparameters and testing performance. \n",
    "\n",
    "Testing performance on a subspace of parameter settings is known as a 'grid search'. In its default state, the user supplies a list of possible hyperparameter settings, and the search is conducted over all possibilities. \n",
    "\n",
    "Since this can be quite time-consuming, H2O allows you to stipulate the 'max_models' (i.e. maximum number of parameter combinations to consider), with each model chosen randomly from among the given possibilities (i.e. a \"RandomDiscrete\" search strategy).\n",
    "\n",
    "Here we import the airline data and create a number of different models by random search of hyperparameter space.\n",
    "\n",
    "**Importing the data:**"
   ]
  },
  {
   "cell_type": "code",
   "execution_count": 1,
   "metadata": {},
   "outputs": [
    {
     "name": "stdout",
     "output_type": "stream",
     "text": [
      "[WARNING] H2O requires requests module of version 2.10 or newer. You have version 2.6.0.\n",
      "You can upgrade to the newest version of the module running from the command line\n",
      "    $ pip2 install --upgrade requests\n",
      "Checking whether there is an H2O instance running at http://localhost:54321. connected.\n"
     ]
    },
    {
     "data": {
      "text/html": [
       "<div style=\"overflow:auto\"><table style=\"width:50%\"><tr><td>H2O cluster uptime:</td>\n",
       "<td>59 mins 52 secs</td></tr>\n",
       "<tr><td>H2O cluster version:</td>\n",
       "<td>3.14.0.6</td></tr>\n",
       "<tr><td>H2O cluster version age:</td>\n",
       "<td>10 days </td></tr>\n",
       "<tr><td>H2O cluster name:</td>\n",
       "<td>ec2-user</td></tr>\n",
       "<tr><td>H2O cluster total nodes:</td>\n",
       "<td>2</td></tr>\n",
       "<tr><td>H2O cluster free memory:</td>\n",
       "<td>966 Mb</td></tr>\n",
       "<tr><td>H2O cluster total cores:</td>\n",
       "<td>4</td></tr>\n",
       "<tr><td>H2O cluster allowed cores:</td>\n",
       "<td>4</td></tr>\n",
       "<tr><td>H2O cluster status:</td>\n",
       "<td>locked, healthy</td></tr>\n",
       "<tr><td>H2O connection url:</td>\n",
       "<td>http://localhost:54321</td></tr>\n",
       "<tr><td>H2O connection proxy:</td>\n",
       "<td>None</td></tr>\n",
       "<tr><td>H2O internal security:</td>\n",
       "<td>False</td></tr>\n",
       "<tr><td>H2O API Extensions:</td>\n",
       "<td>XGBoost, Algos, AutoML, Core V3, Core V4</td></tr>\n",
       "<tr><td>Python version:</td>\n",
       "<td>2.7.5 final</td></tr></table></div>"
      ],
      "text/plain": [
       "--------------------------  ----------------------------------------\n",
       "H2O cluster uptime:         59 mins 52 secs\n",
       "H2O cluster version:        3.14.0.6\n",
       "H2O cluster version age:    10 days\n",
       "H2O cluster name:           ec2-user\n",
       "H2O cluster total nodes:    2\n",
       "H2O cluster free memory:    966 Mb\n",
       "H2O cluster total cores:    4\n",
       "H2O cluster allowed cores:  4\n",
       "H2O cluster status:         locked, healthy\n",
       "H2O connection url:         http://localhost:54321\n",
       "H2O connection proxy:\n",
       "H2O internal security:      False\n",
       "H2O API Extensions:         XGBoost, Algos, AutoML, Core V3, Core V4\n",
       "Python version:             2.7.5 final\n",
       "--------------------------  ----------------------------------------"
      ]
     },
     "metadata": {},
     "output_type": "display_data"
    }
   ],
   "source": [
    "import h2o\n",
    "h2o.init()"
   ]
  },
  {
   "cell_type": "code",
   "execution_count": 3,
   "metadata": {},
   "outputs": [
    {
     "name": "stdout",
     "output_type": "stream",
     "text": [
      "Parse progress: |█████████████████████████████████████████████████████████| 100%\n"
     ]
    }
   ],
   "source": [
    "flights = h2o.import_file(\"hdfs://ec2-34-204-73-232.compute-1.amazonaws.com:9000/allyears2k.csv\")"
   ]
  },
  {
   "cell_type": "markdown",
   "metadata": {},
   "source": [
    "Our goal is to predict whether the arrival is delayed, \"ArrDelay\". We will use date and time, scheduled time, origin and destination, and airline.\n"
   ]
  },
  {
   "cell_type": "code",
   "execution_count": 4,
   "metadata": {},
   "outputs": [],
   "source": [
    "pred = flights[['IsArrDelayed', 'Year','Month','DayofMonth','DayOfWeek','CRSDepTime','CRSArrTime','CRSElapsedTime','UniqueCarrier','FlightNum','TailNum','Origin','Dest','Distance']]\n",
    "pred_train, pred_valid = pred.split_frame(ratios=[0.8])"
   ]
  },
  {
   "cell_type": "markdown",
   "metadata": {},
   "source": [
    "# Building Models\n",
    "** Generalized Linear Models:**"
   ]
  },
  {
   "cell_type": "code",
   "execution_count": 5,
   "metadata": {},
   "outputs": [
    {
     "name": "stdout",
     "output_type": "stream",
     "text": [
      "glm Grid Build progress: |████████████████████████████████████████████████| 100%\n"
     ]
    }
   ],
   "source": [
    "from h2o.grid.grid_search import H2OGridSearch\n",
    "from h2o.estimators.glm import H2OGeneralizedLinearEstimator\n",
    "hyper_parameters = {'alpha': [0.1, 0.2, 0.3, 0.4, 0.5, 0.6, 0.7, 0.8, 0.9, 1.0], 'lambda': [0, 1e-7, 1e-5, 1e-3, 1e-1]}\n",
    "criteria = {\"strategy\": \"RandomDiscrete\", \"max_models\": 5, \"seed\": 1234}\n",
    "gs1 = H2OGridSearch(H2OGeneralizedLinearEstimator(family='binomial', nfolds=2, fold_assignment=\"modulo\", keep_cross_validation_predictions=True), hyper_parameters, search_criteria=criteria)\n",
    "\n",
    "x_cols = ['Year','Month','DayofMonth','DayOfWeek','CRSDepTime','CRSArrTime','CRSElapsedTime','UniqueCarrier','FlightNum','TailNum','Origin','Dest','Distance']\n",
    "\n",
    "gs1.train(x=x_cols, y=\"IsArrDelayed\", training_frame=pred_train, validation_frame=pred_valid)\n",
    "auc_glm = gs1.auc(valid=True)"
   ]
  },
  {
   "cell_type": "markdown",
   "metadata": {},
   "source": [
    "**Gradient Boosted Machines:**"
   ]
  },
  {
   "cell_type": "code",
   "execution_count": 6,
   "metadata": {},
   "outputs": [
    {
     "name": "stdout",
     "output_type": "stream",
     "text": [
      "gbm Grid Build progress: |████████████████████████████████████████████████| 100%\n"
     ]
    }
   ],
   "source": [
    "from h2o.estimators.gbm import H2OGradientBoostingEstimator\n",
    "from h2o.grid.grid_search import H2OGridSearch\n",
    "hyper_parameters = {'learn_rate': [0.01, 0.03], 'max_depth': [3,4,5,6,9], 'sample_rate': [0.7,0.8,0.9,1.0], 'col_sample_rate': [0.2,0.3,0.4,0.5,0.6,0.7,0.8]}\n",
    "criteria = {\"strategy\": \"RandomDiscrete\", \"max_models\": 5, \"seed\": 1234}\n",
    "gs2 = H2OGridSearch(H2OGradientBoostingEstimator(nfolds=2, fold_assignment=\"modulo\", keep_cross_validation_predictions=True), hyper_parameters, search_criteria=criteria)\n",
    "\n",
    "x_cols = ['Year','Month','DayofMonth','DayOfWeek','CRSDepTime','CRSArrTime','CRSElapsedTime','UniqueCarrier','FlightNum','TailNum','Origin','Dest','Distance']\n",
    "\n",
    "gs2.train(x=x_cols, y=\"IsArrDelayed\", training_frame=pred_train, validation_frame=pred_valid)\n",
    "auc_gbm = gs2.auc(valid=True)"
   ]
  },
  {
   "cell_type": "markdown",
   "metadata": {},
   "source": [
    "**Multi-layer perceptrons:**"
   ]
  },
  {
   "cell_type": "code",
   "execution_count": 7,
   "metadata": {},
   "outputs": [
    {
     "name": "stdout",
     "output_type": "stream",
     "text": [
      "deeplearning Grid Build progress: |███████████████████████████████████████| 100%\n"
     ]
    }
   ],
   "source": [
    "from h2o.estimators.deeplearning import H2ODeepLearningEstimator\n",
    "from h2o.grid.grid_search import H2OGridSearch\n",
    "hyper_parameters = {'activation': [\"rectifier\", \"rectifier_with_dropout\"], 'hidden': [[10, 10],[20, 15],[50,50,50]], 'l1': [0, 1e-3, 1e-5], 'l2': [0, 1e-3, 1e-5]}\n",
    "criteria = {\"strategy\": \"RandomDiscrete\", \"max_models\": 5, \"seed\": 1234}\n",
    "gs3 = H2OGridSearch(H2ODeepLearningEstimator(nfolds=2, fold_assignment=\"modulo\", keep_cross_validation_predictions=True), hyper_parameters, search_criteria=criteria)\n",
    "gs3.train(x=x_cols, y=\"IsArrDelayed\", training_frame=pred_train, validation_frame=pred_valid)\n",
    "auc_mlp = gs3.auc()"
   ]
  },
  {
   "cell_type": "markdown",
   "metadata": {},
   "source": [
    "# Evaluating Model Performance"
   ]
  },
  {
   "cell_type": "code",
   "execution_count": 8,
   "metadata": {},
   "outputs": [
    {
     "data": {
      "text/plain": [
       "{u'Grid_DeepLearning_py_4_sid_93ae_model_python_1508440543160_871_model_0': 0.7100269514556684,\n",
       " u'Grid_DeepLearning_py_4_sid_93ae_model_python_1508440543160_871_model_1': 0.7071959224861313,\n",
       " u'Grid_DeepLearning_py_4_sid_93ae_model_python_1508440543160_871_model_2': 0.6688345482458213,\n",
       " u'Grid_DeepLearning_py_4_sid_93ae_model_python_1508440543160_871_model_3': 0.7042174007318446,\n",
       " u'Grid_DeepLearning_py_4_sid_93ae_model_python_1508440543160_871_model_4': 0.6565614708058285,\n",
       " u'Grid_GBM_py_4_sid_93ae_model_python_1508440543160_47_model_0': 0.6830318707483571,\n",
       " u'Grid_GBM_py_4_sid_93ae_model_python_1508440543160_47_model_1': 0.6797463558257494,\n",
       " u'Grid_GBM_py_4_sid_93ae_model_python_1508440543160_47_model_2': 0.6922829123052446,\n",
       " u'Grid_GBM_py_4_sid_93ae_model_python_1508440543160_47_model_3': 0.6793678034410898,\n",
       " u'Grid_GBM_py_4_sid_93ae_model_python_1508440543160_47_model_4': 0.7132884927724197,\n",
       " u'Grid_GLM_py_4_sid_93ae_model_python_1508440543160_1_model_0': 0.6532549396398448,\n",
       " u'Grid_GLM_py_4_sid_93ae_model_python_1508440543160_1_model_1': 0.6499394921740875,\n",
       " u'Grid_GLM_py_4_sid_93ae_model_python_1508440543160_1_model_2': 0.5,\n",
       " u'Grid_GLM_py_4_sid_93ae_model_python_1508440543160_1_model_3': 0.6583475090174775,\n",
       " u'Grid_GLM_py_4_sid_93ae_model_python_1508440543160_1_model_4': 0.6582044330547916}"
      ]
     },
     "execution_count": 8,
     "metadata": {},
     "output_type": "execute_result"
    }
   ],
   "source": [
    "auc = auc_glm\n",
    "auc.update(auc_gbm)\n",
    "auc.update(auc_mlp)\n",
    "auc"
   ]
  },
  {
   "cell_type": "markdown",
   "metadata": {},
   "source": [
    "# Stacking"
   ]
  },
  {
   "cell_type": "markdown",
   "metadata": {},
   "source": [
    "Next, we create a composite model as an ensemble of smaller models — a process known as stacking. The H2O stacking model creates an ensemble by fitting a GLM on top of the results of the individual models."
   ]
  },
  {
   "cell_type": "code",
   "execution_count": 9,
   "metadata": {},
   "outputs": [],
   "source": [
    "models = list(auc.keys())"
   ]
  },
  {
   "cell_type": "code",
   "execution_count": 10,
   "metadata": {},
   "outputs": [
    {
     "name": "stdout",
     "output_type": "stream",
     "text": [
      "stackedensemble Model Build progress: |███████████████████████████████████| 100%\n",
      "\n",
      "ModelMetricsBinomialGLM: stackedensemble\n",
      "** Reported on train data. **\n",
      "\n",
      "MSE: 0.198670047585\n",
      "RMSE: 0.445724183308\n",
      "LogLoss: 0.581557336202\n",
      "Null degrees of freedom: 35243\n",
      "Residual degrees of freedom: 35238\n",
      "Null deviance: 48422.9937834\n",
      "Residual deviance: 40992.8135142\n",
      "AIC: 41004.8135142\n",
      "AUC: 0.762249457365\n",
      "Gini: 0.524498914731\n",
      "Confusion Matrix (Act/Pred) for max f1 @ threshold = 0.414364127528: \n"
     ]
    },
    {
     "data": {
      "text/html": [
       "<div style=\"overflow:auto\"><table style=\"width:50%\"><tr><td><b></b></td>\n",
       "<td><b>NO</b></td>\n",
       "<td><b>YES</b></td>\n",
       "<td><b>Error</b></td>\n",
       "<td><b>Rate</b></td></tr>\n",
       "<tr><td>NO</td>\n",
       "<td>6562.0</td>\n",
       "<td>9103.0</td>\n",
       "<td>0.5811</td>\n",
       "<td> (9103.0/15665.0)</td></tr>\n",
       "<tr><td>YES</td>\n",
       "<td>2269.0</td>\n",
       "<td>17310.0</td>\n",
       "<td>0.1159</td>\n",
       "<td> (2269.0/19579.0)</td></tr>\n",
       "<tr><td>Total</td>\n",
       "<td>8831.0</td>\n",
       "<td>26413.0</td>\n",
       "<td>0.3227</td>\n",
       "<td> (11372.0/35244.0)</td></tr></table></div>"
      ],
      "text/plain": [
       "       NO    YES    Error    Rate\n",
       "-----  ----  -----  -------  -----------------\n",
       "NO     6562  9103   0.5811   (9103.0/15665.0)\n",
       "YES    2269  17310  0.1159   (2269.0/19579.0)\n",
       "Total  8831  26413  0.3227   (11372.0/35244.0)"
      ]
     },
     "metadata": {},
     "output_type": "display_data"
    },
    {
     "name": "stdout",
     "output_type": "stream",
     "text": [
      "Maximum Metrics: Maximum metrics at their respective thresholds\n",
      "\n"
     ]
    },
    {
     "data": {
      "text/html": [
       "<div style=\"overflow:auto\"><table style=\"width:50%\"><tr><td><b>metric</b></td>\n",
       "<td><b>threshold</b></td>\n",
       "<td><b>value</b></td>\n",
       "<td><b>idx</b></td></tr>\n",
       "<tr><td>max f1</td>\n",
       "<td>0.4143641</td>\n",
       "<td>0.7527396</td>\n",
       "<td>273.0</td></tr>\n",
       "<tr><td>max f2</td>\n",
       "<td>0.2566094</td>\n",
       "<td>0.8664125</td>\n",
       "<td>357.0</td></tr>\n",
       "<tr><td>max f0point5</td>\n",
       "<td>0.5588160</td>\n",
       "<td>0.7294756</td>\n",
       "<td>186.0</td></tr>\n",
       "<tr><td>max accuracy</td>\n",
       "<td>0.5179434</td>\n",
       "<td>0.6947282</td>\n",
       "<td>212.0</td></tr>\n",
       "<tr><td>max precision</td>\n",
       "<td>0.9150475</td>\n",
       "<td>1.0</td>\n",
       "<td>0.0</td></tr>\n",
       "<tr><td>max recall</td>\n",
       "<td>0.1259838</td>\n",
       "<td>1.0</td>\n",
       "<td>397.0</td></tr>\n",
       "<tr><td>max specificity</td>\n",
       "<td>0.9150475</td>\n",
       "<td>1.0</td>\n",
       "<td>0.0</td></tr>\n",
       "<tr><td>max absolute_mcc</td>\n",
       "<td>0.5569370</td>\n",
       "<td>0.3817494</td>\n",
       "<td>187.0</td></tr>\n",
       "<tr><td>max min_per_class_accuracy</td>\n",
       "<td>0.5429482</td>\n",
       "<td>0.6902293</td>\n",
       "<td>196.0</td></tr>\n",
       "<tr><td>max mean_per_class_accuracy</td>\n",
       "<td>0.5569370</td>\n",
       "<td>0.6920458</td>\n",
       "<td>187.0</td></tr></table></div>"
      ],
      "text/plain": [
       "metric                       threshold    value     idx\n",
       "---------------------------  -----------  --------  -----\n",
       "max f1                       0.414364     0.75274   273\n",
       "max f2                       0.256609     0.866412  357\n",
       "max f0point5                 0.558816     0.729476  186\n",
       "max accuracy                 0.517943     0.694728  212\n",
       "max precision                0.915047     1         0\n",
       "max recall                   0.125984     1         397\n",
       "max specificity              0.915047     1         0\n",
       "max absolute_mcc             0.556937     0.381749  187\n",
       "max min_per_class_accuracy   0.542948     0.690229  196\n",
       "max mean_per_class_accuracy  0.556937     0.692046  187"
      ]
     },
     "metadata": {},
     "output_type": "display_data"
    },
    {
     "name": "stdout",
     "output_type": "stream",
     "text": [
      "Gains/Lift Table: Avg response rate: 55.55 %\n",
      "\n"
     ]
    },
    {
     "data": {
      "text/html": [
       "<div style=\"overflow:auto\"><table style=\"width:50%\"><tr><td><b></b></td>\n",
       "<td><b>group</b></td>\n",
       "<td><b>cumulative_data_fraction</b></td>\n",
       "<td><b>lower_threshold</b></td>\n",
       "<td><b>lift</b></td>\n",
       "<td><b>cumulative_lift</b></td>\n",
       "<td><b>response_rate</b></td>\n",
       "<td><b>cumulative_response_rate</b></td>\n",
       "<td><b>capture_rate</b></td>\n",
       "<td><b>cumulative_capture_rate</b></td>\n",
       "<td><b>gain</b></td>\n",
       "<td><b>cumulative_gain</b></td></tr>\n",
       "<tr><td></td>\n",
       "<td>1</td>\n",
       "<td>0.0100159</td>\n",
       "<td>0.9017340</td>\n",
       "<td>1.7847937</td>\n",
       "<td>1.7847937</td>\n",
       "<td>0.9915014</td>\n",
       "<td>0.9915014</td>\n",
       "<td>0.0178763</td>\n",
       "<td>0.0178763</td>\n",
       "<td>78.4793703</td>\n",
       "<td>78.4793703</td></tr>\n",
       "<tr><td></td>\n",
       "<td>2</td>\n",
       "<td>0.0200034</td>\n",
       "<td>0.8907397</td>\n",
       "<td>1.7131557</td>\n",
       "<td>1.7490255</td>\n",
       "<td>0.9517045</td>\n",
       "<td>0.9716312</td>\n",
       "<td>0.0171102</td>\n",
       "<td>0.0349865</td>\n",
       "<td>71.3155677</td>\n",
       "<td>74.9025497</td></tr>\n",
       "<tr><td></td>\n",
       "<td>3</td>\n",
       "<td>0.0300193</td>\n",
       "<td>0.8772443</td>\n",
       "<td>1.7185014</td>\n",
       "<td>1.7388412</td>\n",
       "<td>0.9546742</td>\n",
       "<td>0.9659735</td>\n",
       "<td>0.0172123</td>\n",
       "<td>0.0521988</td>\n",
       "<td>71.8501366</td>\n",
       "<td>73.8841170</td></tr>\n",
       "<tr><td></td>\n",
       "<td>4</td>\n",
       "<td>0.0400068</td>\n",
       "<td>0.8604212</td>\n",
       "<td>1.6978140</td>\n",
       "<td>1.7285989</td>\n",
       "<td>0.9431818</td>\n",
       "<td>0.9602837</td>\n",
       "<td>0.0169569</td>\n",
       "<td>0.0691557</td>\n",
       "<td>69.7813984</td>\n",
       "<td>72.8598922</td></tr>\n",
       "<tr><td></td>\n",
       "<td>5</td>\n",
       "<td>0.0500227</td>\n",
       "<td>0.8440597</td>\n",
       "<td>1.6420102</td>\n",
       "<td>1.7112615</td>\n",
       "<td>0.9121813</td>\n",
       "<td>0.9506523</td>\n",
       "<td>0.0164462</td>\n",
       "<td>0.0856019</td>\n",
       "<td>64.2010207</td>\n",
       "<td>71.1261533</td></tr>\n",
       "<tr><td></td>\n",
       "<td>6</td>\n",
       "<td>0.1000170</td>\n",
       "<td>0.7797209</td>\n",
       "<td>1.6110925</td>\n",
       "<td>1.6611912</td>\n",
       "<td>0.8950057</td>\n",
       "<td>0.9228369</td>\n",
       "<td>0.0805455</td>\n",
       "<td>0.1661474</td>\n",
       "<td>61.1092498</td>\n",
       "<td>66.1191224</td></tr>\n",
       "<tr><td></td>\n",
       "<td>7</td>\n",
       "<td>0.1500113</td>\n",
       "<td>0.7377690</td>\n",
       "<td>1.5222117</td>\n",
       "<td>1.6148735</td>\n",
       "<td>0.8456300</td>\n",
       "<td>0.8971061</td>\n",
       "<td>0.0761019</td>\n",
       "<td>0.2422493</td>\n",
       "<td>52.2211682</td>\n",
       "<td>61.4873472</td></tr>\n",
       "<tr><td></td>\n",
       "<td>8</td>\n",
       "<td>0.2000057</td>\n",
       "<td>0.7079815</td>\n",
       "<td>1.4272012</td>\n",
       "<td>1.5679620</td>\n",
       "<td>0.7928490</td>\n",
       "<td>0.8710455</td>\n",
       "<td>0.0713520</td>\n",
       "<td>0.3136013</td>\n",
       "<td>42.7201154</td>\n",
       "<td>56.7962049</td></tr>\n",
       "<tr><td></td>\n",
       "<td>9</td>\n",
       "<td>0.2999943</td>\n",
       "<td>0.6555287</td>\n",
       "<td>1.2949015</td>\n",
       "<td>1.4769505</td>\n",
       "<td>0.7193530</td>\n",
       "<td>0.8204861</td>\n",
       "<td>0.1294755</td>\n",
       "<td>0.4430768</td>\n",
       "<td>29.4901548</td>\n",
       "<td>47.6950491</td></tr>\n",
       "<tr><td></td>\n",
       "<td>10</td>\n",
       "<td>0.4000113</td>\n",
       "<td>0.6037760</td>\n",
       "<td>1.1898480</td>\n",
       "<td>1.4051647</td>\n",
       "<td>0.6609929</td>\n",
       "<td>0.7806072</td>\n",
       "<td>0.1190051</td>\n",
       "<td>0.5620818</td>\n",
       "<td>18.9848003</td>\n",
       "<td>40.5164686</td></tr>\n",
       "<tr><td></td>\n",
       "<td>11</td>\n",
       "<td>0.5</td>\n",
       "<td>0.5523969</td>\n",
       "<td>1.0839373</td>\n",
       "<td>1.3409265</td>\n",
       "<td>0.6021566</td>\n",
       "<td>0.7449211</td>\n",
       "<td>0.1083814</td>\n",
       "<td>0.6704633</td>\n",
       "<td>8.3937312</td>\n",
       "<td>34.0926503</td></tr>\n",
       "<tr><td></td>\n",
       "<td>12</td>\n",
       "<td>0.5999887</td>\n",
       "<td>0.5007109</td>\n",
       "<td>0.9383567</td>\n",
       "<td>1.2738379</td>\n",
       "<td>0.5212826</td>\n",
       "<td>0.7076516</td>\n",
       "<td>0.0938250</td>\n",
       "<td>0.7642883</td>\n",
       "<td>-6.1643336</td>\n",
       "<td>27.3837876</td></tr>\n",
       "<tr><td></td>\n",
       "<td>13</td>\n",
       "<td>0.7000057</td>\n",
       "<td>0.4445338</td>\n",
       "<td>0.8308509</td>\n",
       "<td>1.2105438</td>\n",
       "<td>0.4615603</td>\n",
       "<td>0.6724900</td>\n",
       "<td>0.0830992</td>\n",
       "<td>0.8473875</td>\n",
       "<td>-16.9149056</td>\n",
       "<td>21.0543768</td></tr>\n",
       "<tr><td></td>\n",
       "<td>14</td>\n",
       "<td>0.7999943</td>\n",
       "<td>0.3820495</td>\n",
       "<td>0.6870385</td>\n",
       "<td>1.1451126</td>\n",
       "<td>0.3816686</td>\n",
       "<td>0.6361412</td>\n",
       "<td>0.0686961</td>\n",
       "<td>0.9160836</td>\n",
       "<td>-31.2961506</td>\n",
       "<td>14.5112571</td></tr>\n",
       "<tr><td></td>\n",
       "<td>15</td>\n",
       "<td>0.8999830</td>\n",
       "<td>0.3090551</td>\n",
       "<td>0.5169390</td>\n",
       "<td>1.0753221</td>\n",
       "<td>0.2871737</td>\n",
       "<td>0.5973707</td>\n",
       "<td>0.0516880</td>\n",
       "<td>0.9677716</td>\n",
       "<td>-48.3060999</td>\n",
       "<td>7.5322109</td></tr>\n",
       "<tr><td></td>\n",
       "<td>16</td>\n",
       "<td>1.0</td>\n",
       "<td>0.1036815</td>\n",
       "<td>0.3222292</td>\n",
       "<td>1.0</td>\n",
       "<td>0.1790071</td>\n",
       "<td>0.5555272</td>\n",
       "<td>0.0322284</td>\n",
       "<td>1.0</td>\n",
       "<td>-67.7770777</td>\n",
       "<td>0.0</td></tr></table></div>"
      ],
      "text/plain": [
       "    group    cumulative_data_fraction    lower_threshold    lift      cumulative_lift    response_rate    cumulative_response_rate    capture_rate    cumulative_capture_rate    gain      cumulative_gain\n",
       "--  -------  --------------------------  -----------------  --------  -----------------  ---------------  --------------------------  --------------  -------------------------  --------  -----------------\n",
       "    1        0.0100159                   0.901734           1.78479   1.78479            0.991501         0.991501                    0.0178763       0.0178763                  78.4794   78.4794\n",
       "    2        0.0200034                   0.89074            1.71316   1.74903            0.951705         0.971631                    0.0171102       0.0349865                  71.3156   74.9025\n",
       "    3        0.0300193                   0.877244           1.7185    1.73884            0.954674         0.965974                    0.0172123       0.0521988                  71.8501   73.8841\n",
       "    4        0.0400068                   0.860421           1.69781   1.7286             0.943182         0.960284                    0.0169569       0.0691557                  69.7814   72.8599\n",
       "    5        0.0500227                   0.84406            1.64201   1.71126            0.912181         0.950652                    0.0164462       0.0856019                  64.201    71.1262\n",
       "    6        0.100017                    0.779721           1.61109   1.66119            0.895006         0.922837                    0.0805455       0.166147                   61.1092   66.1191\n",
       "    7        0.150011                    0.737769           1.52221   1.61487            0.84563          0.897106                    0.0761019       0.242249                   52.2212   61.4873\n",
       "    8        0.200006                    0.707982           1.4272    1.56796            0.792849         0.871046                    0.071352        0.313601                   42.7201   56.7962\n",
       "    9        0.299994                    0.655529           1.2949    1.47695            0.719353         0.820486                    0.129475        0.443077                   29.4902   47.695\n",
       "    10       0.400011                    0.603776           1.18985   1.40516            0.660993         0.780607                    0.119005        0.562082                   18.9848   40.5165\n",
       "    11       0.5                         0.552397           1.08394   1.34093            0.602157         0.744921                    0.108381        0.670463                   8.39373   34.0927\n",
       "    12       0.599989                    0.500711           0.938357  1.27384            0.521283         0.707652                    0.093825        0.764288                   -6.16433  27.3838\n",
       "    13       0.700006                    0.444534           0.830851  1.21054            0.46156          0.67249                     0.0830992       0.847388                   -16.9149  21.0544\n",
       "    14       0.799994                    0.382049           0.687038  1.14511            0.381669         0.636141                    0.0686961       0.916084                   -31.2962  14.5113\n",
       "    15       0.899983                    0.309055           0.516939  1.07532            0.287174         0.597371                    0.051688        0.967772                   -48.3061  7.53221\n",
       "    16       1                           0.103682           0.322229  1                  0.179007         0.555527                    0.0322284       1                          -67.7771  0"
      ]
     },
     "metadata": {},
     "output_type": "display_data"
    },
    {
     "name": "stdout",
     "output_type": "stream",
     "text": [
      "\n"
     ]
    },
    {
     "data": {
      "text/plain": []
     },
     "execution_count": 10,
     "metadata": {},
     "output_type": "execute_result"
    }
   ],
   "source": [
    "from h2o.estimators.stackedensemble import H2OStackedEnsembleEstimator\n",
    "\n",
    "stack = H2OStackedEnsembleEstimator(base_models=models)\n",
    "stack.train(x=x_cols, y=\"IsArrDelayed\", training_frame=pred_train, validation_frame=pred_valid)"
   ]
  },
  {
   "cell_type": "markdown",
   "metadata": {
    "collapsed": true
   },
   "source": [
    "Here we can compare the performance of the stacked model to that of the individual models above. Performance varies due to the randomness of our grid search, but on last run the AUC improved from 0.713 (best individual model) to 0.762 (stacked model):"
   ]
  },
  {
   "cell_type": "code",
   "execution_count": null,
   "metadata": {},
   "outputs": [],
   "source": [
    "stack.model_performance()"
   ]
  }
 ],
 "metadata": {
  "kernelspec": {
   "display_name": "Python 2",
   "language": "python",
   "name": "python2"
  },
  "language_info": {
   "codemirror_mode": {
    "name": "ipython",
    "version": 2
   },
   "file_extension": ".py",
   "mimetype": "text/x-python",
   "name": "python",
   "nbconvert_exporter": "python",
   "pygments_lexer": "ipython2",
   "version": "2.7.5"
  }
 },
 "nbformat": 4,
 "nbformat_minor": 2
}
