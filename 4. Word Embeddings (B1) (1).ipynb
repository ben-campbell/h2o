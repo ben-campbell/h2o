{
 "cells": [
  {
   "cell_type": "markdown",
   "metadata": {},
   "source": [
    "<div align=center><h1 style=\"display: inline;\" >4. Word Embeddings (B1)</h1><img style=\"display: inline;\" src=http://industrypulse.com/wp-content/uploads/2017/05/h2oai-1068x1068.png width=100></div>"
   ]
  },
  {
   "cell_type": "markdown",
   "metadata": {},
   "source": [
    "word2vec is an algorithm for representing words in a vector space. Words that occur in similar contexts are mapped to nearby vectors in the space — these vectors can then be used in subsequent numerical algorithms.\n",
    "\n",
    "The efficacy of word2vec is based upon the distributional hypothesis in linguistics, which contends that words used in similar contexts convey similar meanings. By measuring the contexts that words appear in, word2vec can hopefully create a vector space where words are (to some extent) sorted by meaning.\n",
    "\n",
    "word2vec works by training a neural network. The inputs of the neural network represent words, and the hidden layer represents the n-dimensional space that they will be embedded in. The network is trained on nearby words, and in this way the network learns weights between the word-space and the vector-space such that words appearing in similar contexts are mapped to nearby vectors.  The two main training methods are \"skip-grams\" and \"continuous bag of words.\""
   ]
  },
  {
   "cell_type": "markdown",
   "metadata": {},
   "source": [
    "# 4.1 Importing and Cleaning Data"
   ]
  },
  {
   "cell_type": "code",
   "execution_count": 1,
   "metadata": {},
   "outputs": [
    {
     "name": "stderr",
     "output_type": "stream",
     "text": [
      "\n",
      "----------------------------------------------------------------------\n",
      "\n",
      "Your next step is to start H2O:\n",
      "    > h2o.init()\n",
      "\n",
      "For H2O package documentation, ask for help:\n",
      "    > ??h2o\n",
      "\n",
      "After starting H2O, you can use the Web UI at http://localhost:54321\n",
      "For more information visit http://docs.h2o.ai\n",
      "\n",
      "----------------------------------------------------------------------\n",
      "\n",
      "\n",
      "Attaching package: ‘h2o’\n",
      "\n",
      "The following objects are masked from ‘package:stats’:\n",
      "\n",
      "    cor, sd, var\n",
      "\n",
      "The following objects are masked from ‘package:base’:\n",
      "\n",
      "    &&, %*%, %in%, ||, apply, as.factor, as.numeric, colnames,\n",
      "    colnames<-, ifelse, is.character, is.factor, is.numeric, log,\n",
      "    log10, log1p, log2, round, signif, trunc\n",
      "\n"
     ]
    },
    {
     "name": "stdout",
     "output_type": "stream",
     "text": [
      " Connection successful!\n",
      "\n",
      "R is connected to the H2O cluster: \n",
      "    H2O cluster uptime:         19 minutes 29 seconds \n",
      "    H2O cluster version:        3.14.0.6 \n",
      "    H2O cluster version age:    9 days  \n",
      "    H2O cluster name:           ec2-user \n",
      "    H2O cluster total nodes:    2 \n",
      "    H2O cluster total memory:   1.46 GB \n",
      "    H2O cluster total cores:    4 \n",
      "    H2O cluster allowed cores:  4 \n",
      "    H2O cluster healthy:        TRUE \n",
      "    H2O Connection ip:          localhost \n",
      "    H2O Connection port:        54321 \n",
      "    H2O Connection proxy:       NA \n",
      "    H2O Internal Security:      FALSE \n",
      "    H2O API Extensions:         XGBoost, Algos, AutoML, Core V3, Core V4 \n",
      "    R Version:                  R version 3.4.1 (2017-06-30) \n",
      "\n"
     ]
    }
   ],
   "source": [
    "library(h2o)\n",
    "h2o.init(nthreads = -1)"
   ]
  },
  {
   "cell_type": "code",
   "execution_count": 2,
   "metadata": {},
   "outputs": [
    {
     "name": "stdout",
     "output_type": "stream",
     "text": [
      "  |======================================================================| 100%\n"
     ]
    }
   ],
   "source": [
    "lending.hex = h2o.importFile(\"hdfs://ec2-34-204-73-232.compute-1.amazonaws.com:9000/LoanStats_2017Q1.csv\")"
   ]
  },
  {
   "cell_type": "code",
   "execution_count": 3,
   "metadata": {},
   "outputs": [],
   "source": [
    "lending.hex = lending.hex[lending.hex['annual_inc'] < 200000,]"
   ]
  },
  {
   "cell_type": "markdown",
   "metadata": {},
   "source": [
    "# 4.2 Word2Vec"
   ]
  },
  {
   "cell_type": "markdown",
   "metadata": {},
   "source": [
    "** Change type of 'emp_title':**"
   ]
  },
  {
   "cell_type": "code",
   "execution_count": 4,
   "metadata": {},
   "outputs": [
    {
     "data": {
      "text/html": [
       "FALSE"
      ],
      "text/latex": [
       "FALSE"
      ],
      "text/markdown": [
       "FALSE"
      ],
      "text/plain": [
       "[1] FALSE"
      ]
     },
     "metadata": {},
     "output_type": "display_data"
    }
   ],
   "source": [
    "h2o.ischaracter(lending.hex['emp_title'])"
   ]
  },
  {
   "cell_type": "code",
   "execution_count": 5,
   "metadata": {},
   "outputs": [
    {
     "data": {
      "text/html": [
       "TRUE"
      ],
      "text/latex": [
       "TRUE"
      ],
      "text/markdown": [
       "TRUE"
      ],
      "text/plain": [
       "[1] TRUE"
      ]
     },
     "metadata": {},
     "output_type": "display_data"
    }
   ],
   "source": [
    "lending.hex['emp_title'] = as.character(lending.hex['emp_title'])\n",
    "h2o.ischaracter(lending.hex['emp_title'])"
   ]
  },
  {
   "cell_type": "markdown",
   "metadata": {},
   "source": [
    "**Tokenize the job titles to form a corpus for word2vec: **"
   ]
  },
  {
   "cell_type": "code",
   "execution_count": 6,
   "metadata": {},
   "outputs": [
    {
     "data": {
      "text/plain": [
       "           C1\n",
       "1 maintenance\n",
       "2   assistant\n",
       "3        <NA>\n",
       "4     project\n",
       "5     manager\n",
       "6        <NA>\n",
       "\n",
       "[271523 rows x 1 column] "
      ]
     },
     "metadata": {},
     "output_type": "display_data"
    }
   ],
   "source": [
    "tokens = h2o.tolower(h2o.tokenize(lending.hex['emp_title'], split=\"\\\\\\\\W+\"))\n",
    "tokens"
   ]
  },
  {
   "cell_type": "markdown",
   "metadata": {},
   "source": [
    "** Create H2O word2vec model. ** There are a few important parameters to discuss here:\n",
    "<table><p><td><b>Parameter</b></td><td><b>Explanation</b></td><td><b>Jobs Titles</b></td>\n",
    "<tr><td>min_word_freq</td><td>words will be ignored if they do not pass this threshold</td><td>can be tuned</td></tr>\n",
    "<tr><td>window_size</td><td>size of the context window for the Skip-Gram model to use around each word</td><td>vast majority under three words</td></tr>\n",
    "<tr><td>vec_size</td><td>the dimensionality of the vector space that the words will be embedded in</td><td>can be tuned</td></tr>\n",
    "<tr><td>sent_sample_rate</td><td>this is used for downsampling very common words (e.g. 'a','the','of')</td><td>unlikely to be useful</td></tr></table>"
   ]
  },
  {
   "cell_type": "code",
   "execution_count": 7,
   "metadata": {},
   "outputs": [
    {
     "name": "stdout",
     "output_type": "stream",
     "text": [
      "  |======================================================================| 100%\n"
     ]
    }
   ],
   "source": [
    "w2v.model <- h2o.word2vec(tokens, epochs = 10, min_word_freq = 5, vec_size = 50)"
   ]
  },
  {
   "cell_type": "markdown",
   "metadata": {},
   "source": [
    "**Testing word2vec** ... sometimes it makes sense..."
   ]
  },
  {
   "cell_type": "code",
   "execution_count": 8,
   "metadata": {},
   "outputs": [
    {
     "name": "stdout",
     "output_type": "stream",
     "text": [
      "      synonym     score\n",
      "1 engineering 0.6965685\n",
      "2   architect 0.6637877\n",
      "3   developer 0.6566272\n",
      "4    designer 0.6348240\n",
      "5      tester 0.6230693\n"
     ]
    }
   ],
   "source": [
    "print(h2o.findSynonyms(w2v.model, \"engineer\", count = 5))"
   ]
  },
  {
   "cell_type": "markdown",
   "metadata": {},
   "source": [
    "... sometimes not so much..."
   ]
  },
  {
   "cell_type": "code",
   "execution_count": 9,
   "metadata": {
    "scrolled": true
   },
   "outputs": [
    {
     "name": "stdout",
     "output_type": "stream",
     "text": [
      "         synonym     score\n",
      "1       employee 0.4177713\n",
      "2      community 0.3760256\n",
      "3 superintendent 0.3757597\n",
      "4    facilitator 0.3704157\n",
      "5          water 0.3557755\n"
     ]
    }
   ],
   "source": [
    "print(h2o.findSynonyms(w2v.model, \"lawyer\", count = 5))"
   ]
  },
  {
   "cell_type": "markdown",
   "metadata": {},
   "source": [
    "... other times it pairs words that occur in similar contexts but have opposite meanings (e.g. junior and senior):"
   ]
  },
  {
   "cell_type": "code",
   "execution_count": 11,
   "metadata": {
    "scrolled": true
   },
   "outputs": [
    {
     "name": "stdout",
     "output_type": "stream",
     "text": [
      "    synonym     score\n",
      "1        sr 0.8608359\n",
      "2       iii 0.7046552\n",
      "3    junior 0.6333072\n",
      "4        jr 0.6074410\n",
      "5 principle 0.5708697\n"
     ]
    }
   ],
   "source": [
    "print(h2o.findSynonyms(w2v.model, \"senior\", count = 5))"
   ]
  },
  {
   "cell_type": "markdown",
   "metadata": {},
   "source": [
    "... nevertheless, it's better than random, so let's test it.\n",
    "\n",
    "**Applying word2vec.** We transform the tokens to the vector space, and then cbind those vectors to the income values:"
   ]
  },
  {
   "cell_type": "code",
   "execution_count": 12,
   "metadata": {},
   "outputs": [],
   "source": [
    "vecs <- h2o.transform(w2v.model, tokens, aggregate_method = 'AVERAGE')\n",
    "reg <- h2o.cbind(lending.hex['annual_inc'], vecs)"
   ]
  },
  {
   "cell_type": "markdown",
   "metadata": {},
   "source": [
    "# 4.3 Decision Trees and Random Forests\n",
    "\n",
    "We now want to perform regression from the vector space to annual income. We expect this problem to be highly non-linear. Here we will look at methods based on decision-tree ensembles.\n",
    "\n",
    "** Decision trees**\n",
    "\n",
    "A decision tree is one of the simplest classification models. Decision trees work by forming a series of boundaries that attempt to maximally split the classes in question, as the following image illustrates:\n",
    "\n",
    "<img src=http://image.slidesharecdn.com/lecture02ml4ltmarinasantini2013-130827052029-phpapp02/95/lecture-02-machine-learning-for-language-technology-decision-trees-and-nearest-neighbors-10-638.jpg?cb=1378716784 width=500>\n",
    "\n",
    "Decision trees can be formed by a number of algorithms, most popular 'CART.' This works by testing all possible split points and taking a measure of how pure the resulting split is (e.g. the entropy). The classification case is generalized to regression by looking at the difference in regressand values on each side of the split. \n",
    "\n",
    "Taken alone, decision trees have a strong tendency to overfit, e.g.:\n",
    "\n",
    "<img src=http://stephanie-w.github.io/brainscribble/figure/classification-algorithms-on-iris-dataset_48_0.png width=400>\n",
    "\n",
    "However, when many (slightly different) decision trees are taken together as an <em>ensemble</em> we get some of the most powerful machine learning models known.\n",
    "\n",
    "** Random forests**\n",
    "\n",
    "Random forests are composed of many trees trained on the same data. Of course, the trees must differ in some way. This is done first by bootstrapping aggregating (or <em>bagging</em>). Here, each tree is trained on the same number of samples, but <em>with replacement</em>. Second, the trees may differ in the features they are trained on as well.\n",
    "\n",
    "** Create and train an H2O random forest. ** There are a few important parameters to discuss here:\n",
    "<table><p><td><b>Parameter</b></td><td><b>Explanation</b></td>\n",
    "<tr><td>ntrees</td><td>The number of trees to ensemble</td></tr>\n",
    "<tr><td>max_depth</td><td>The maximum number of splits for each tree</td></tr>\n",
    "<tr><td>stopping_metric / stopping_rounds</td><td>If there is a validation set, then we can halt training (i.e. 'stop') if performance degrades. We can specify the metric upon which to base this decision, and the number of rounds to determine it</td></tr>\n",
    "<tr><td>sample_rate</td><td>This allows random sampling of the training set for each tree</td></tr>\n",
    "<tr><td>col_sample_rate_per_tree</td><td>This allows random sampling of the feature set for each tree</td></tr>\n",
    "<tr><td>min_split_improvement</td><td>Don't make a split if it doesn't improve classification performance above this threshold. This is another method to prevent overfitting.</td></tr>\n",
    "</table>\n",
    "\n",
    "Normally we would tune these parameters for performance, but (other than some rough manual tuning) we will leave this topic until a subsequent section."
   ]
  },
  {
   "cell_type": "code",
   "execution_count": 13,
   "metadata": {},
   "outputs": [],
   "source": [
    "reg_split <- h2o.splitFrame(reg, ratios=c(0.8))"
   ]
  },
  {
   "cell_type": "code",
   "execution_count": 14,
   "metadata": {},
   "outputs": [
    {
     "name": "stdout",
     "output_type": "stream",
     "text": [
      "  |======================================================================| 100%\n"
     ]
    }
   ],
   "source": [
    "rfmodel <- h2o.randomForest(y='annual_inc', training_frame=h2o.na_omit(reg_split[[1]]), validation_frame=h2o.na_omit(reg_split[[2]]), ntrees=250)"
   ]
  },
  {
   "cell_type": "markdown",
   "metadata": {},
   "source": [
    "**Evaluate the random forest:**"
   ]
  },
  {
   "cell_type": "code",
   "execution_count": 40,
   "metadata": {},
   "outputs": [
    {
     "data": {
      "text/plain": [
       "H2ORegressionMetrics: drf\n",
       "** Reported on validation data. **\n",
       "\n",
       "MSE:  916779588\n",
       "RMSE:  30278.37\n",
       "MAE:  23138.74\n",
       "RMSLE:  0.4395945\n",
       "Mean Residual Deviance :  916779588\n"
      ]
     },
     "metadata": {},
     "output_type": "display_data"
    }
   ],
   "source": [
    "rfmodel@model$validation_metrics"
   ]
  },
  {
   "cell_type": "markdown",
   "metadata": {},
   "source": [
    "As a sanity check, let's check what these measures would be if we just estimated mean income for every job title:"
   ]
  },
  {
   "cell_type": "code",
   "execution_count": 41,
   "metadata": {},
   "outputs": [
    {
     "name": "stdout",
     "output_type": "stream",
     "text": [
      "[1] \"RMSE:\"\n",
      "[1] 36066.96\n",
      "[1] \"MAE:\"\n",
      "[1] 28493.42\n"
     ]
    }
   ],
   "source": [
    "print(\"RMSE:\")\n",
    "print(h2o.sqrt(h2o.mean((reg['annual_inc'] - h2o.mean(reg['annual_inc']))*(reg['annual_inc'] - h2o.mean(reg['annual_inc'])), na.rm=TRUE)))\n",
    "print(\"MAE:\")\n",
    "print(h2o.mean(h2o.abs(reg['annual_inc'] - h2o.mean(reg['annual_inc'], na.rm=TRUE)), na.rm=TRUE))"
   ]
  },
  {
   "cell_type": "markdown",
   "metadata": {},
   "source": [
    "**Plotting a learning curve:**"
   ]
  },
  {
   "cell_type": "code",
   "execution_count": 16,
   "metadata": {},
   "outputs": [],
   "source": [
    "learn_curve <- rfmodel@model$scoring_history[,c('number_of_trees','training_rmse','validation_rmse')]"
   ]
  },
  {
   "cell_type": "code",
   "execution_count": 21,
   "metadata": {},
   "outputs": [
    {
     "name": "stderr",
     "output_type": "stream",
     "text": [
      "Warning message:\n",
      "“Removed 1 rows containing missing values (geom_path).”Warning message:\n",
      "“Removed 1 rows containing missing values (geom_path).”"
     ]
    },
    {
     "data": {},
     "metadata": {},
     "output_type": "display_data"
    },
    {
     "data": {
      "image/png": "[encoded data removed]",
      "text/plain": [
       "plot without title"
      ]
     },
     "metadata": {},
     "output_type": "display_data"
    }
   ],
   "source": [
    "library(ggplot2)\n",
    "library(repr)\n",
    "options(repr.plot.width=4, repr.plot.height=3)\n",
    "ggplot(data = learn_curve) + geom_path(mapping = aes(x = number_of_trees, y = training_rmse), color=\"red\") + geom_path(mapping = aes(x = number_of_trees, y = validation_rmse))"
   ]
  },
  {
   "cell_type": "markdown",
   "metadata": {},
   "source": [
    "# 4.4 Gradient Boosting: XGBoost\n",
    "\n",
    "We will now compare an alternate method of ensembling decision trees: gradient boosting. Roughly, in this method, each tree is trained on the <em>error</em> (or residual) of the previous tree(s).\n",
    "\n",
    "In recent years, the XGBoost instantiation of gradient boosting has garnered enormous attention. The differences between XGBoost and GBM are subtle, but XGBoost's regularization properties mean that it often outperforms other gradient boosting machines.\n",
    "\n",
    "** Create and train an H2O XGBoost model. ** Here are a few of the parameters one can tune:\n",
    "<table><p><td><b>Parameter</b></td><td><b>Explanation</b></td><td></td>\n",
    "<tr><td>ntrees</td><td>same as random forest</td></tr>\n",
    "<tr><td>max_depth</td><td>same as random forest</td></tr>\n",
    "<tr><td>stopping_metric / stopping_rounds</td><td>same as random forest</td></tr>\n",
    "<tr><td>eta</td><td>multiplicative factor to train each subsequent model; lower values give slower convergence</td></tr>\n",
    "<tr><td>sample_rate</td><td>same as random forest</td></tr>\n",
    "<tr><td>col_sample_rate_per_tree<td>same as random forest<td></td></tr>\n",
    "</table>"
   ]
  },
  {
   "cell_type": "markdown",
   "metadata": {},
   "source": [
    "Unfortunatley, H2O only supports XGBoost in single-node mode, so the following code will not run if the H2O cluster has both nodes up:"
   ]
  },
  {
   "cell_type": "code",
   "execution_count": 22,
   "metadata": {},
   "outputs": [
    {
     "name": "stdout",
     "output_type": "stream",
     "text": [
      "\n",
      "ERROR: Unexpected HTTP Status code: 400 Bad Request (url = http://localhost:54321/3/ModelBuilders/xgboost)\n",
      "\n",
      "java.lang.IllegalArgumentException\n",
      " [1] \"java.lang.IllegalArgumentException: XGBoost is currently only supported in single-node mode.\"                \n",
      " [2] \"    hex.tree.xgboost.XGBoost.init(XGBoost.java:377)\"                                                         \n",
      " [3] \"    water.api.ModelBuilderHandler.handle(ModelBuilderHandler.java:60)\"                                       \n",
      " [4] \"    water.api.ModelBuilderHandler.handle(ModelBuilderHandler.java:17)\"                                       \n",
      " [5] \"    water.api.RequestServer.serve(RequestServer.java:448)\"                                                   \n",
      " [6] \"    water.api.RequestServer.doGeneric(RequestServer.java:297)\"                                               \n",
      " [7] \"    water.api.RequestServer.doPost(RequestServer.java:223)\"                                                  \n",
      " [8] \"    javax.servlet.http.HttpServlet.service(HttpServlet.java:755)\"                                            \n",
      " [9] \"    javax.servlet.http.HttpServlet.service(HttpServlet.java:848)\"                                            \n",
      "[10] \"    org.eclipse.jetty.servlet.ServletHolder.handle(ServletHolder.java:684)\"                                  \n",
      "[11] \"    org.eclipse.jetty.servlet.ServletHandler.doHandle(ServletHandler.java:503)\"                              \n",
      "[12] \"    org.eclipse.jetty.server.handler.ContextHandler.doHandle(ContextHandler.java:1086)\"                      \n",
      "[13] \"    org.eclipse.jetty.servlet.ServletHandler.doScope(ServletHandler.java:429)\"                               \n",
      "[14] \"    org.eclipse.jetty.server.handler.ContextHandler.doScope(ContextHandler.java:1020)\"                       \n",
      "[15] \"    org.eclipse.jetty.server.handler.ScopedHandler.handle(ScopedHandler.java:135)\"                           \n",
      "[16] \"    org.eclipse.jetty.server.handler.HandlerCollection.handle(HandlerCollection.java:154)\"                   \n",
      "[17] \"    org.eclipse.jetty.server.handler.HandlerWrapper.handle(HandlerWrapper.java:116)\"                         \n",
      "[18] \"    water.JettyHTTPD$LoginHandler.handle(JettyHTTPD.java:189)\"                                               \n",
      "[19] \"    org.eclipse.jetty.server.handler.HandlerCollection.handle(HandlerCollection.java:154)\"                   \n",
      "[20] \"    org.eclipse.jetty.server.handler.HandlerWrapper.handle(HandlerWrapper.java:116)\"                         \n",
      "[21] \"    org.eclipse.jetty.server.Server.handle(Server.java:370)\"                                                 \n",
      "[22] \"    org.eclipse.jetty.server.AbstractHttpConnection.handleRequest(AbstractHttpConnection.java:494)\"          \n",
      "[23] \"    org.eclipse.jetty.server.BlockingHttpConnection.handleRequest(BlockingHttpConnection.java:53)\"           \n",
      "[24] \"    org.eclipse.jetty.server.AbstractHttpConnection.content(AbstractHttpConnection.java:982)\"                \n",
      "[25] \"    org.eclipse.jetty.server.AbstractHttpConnection$RequestHandler.content(AbstractHttpConnection.java:1043)\"\n",
      "[26] \"    org.eclipse.jetty.http.HttpParser.parseNext(HttpParser.java:865)\"                                        \n",
      "[27] \"    org.eclipse.jetty.http.HttpParser.parseAvailable(HttpParser.java:240)\"                                   \n",
      "[28] \"    org.eclipse.jetty.server.BlockingHttpConnection.handle(BlockingHttpConnection.java:72)\"                  \n",
      "[29] \"    org.eclipse.jetty.server.bio.SocketConnector$ConnectorEndPoint.run(SocketConnector.java:264)\"            \n",
      "[30] \"    org.eclipse.jetty.util.thread.QueuedThreadPool.runJob(QueuedThreadPool.java:608)\"                        \n",
      "[31] \"    org.eclipse.jetty.util.thread.QueuedThreadPool$3.run(QueuedThreadPool.java:543)\"                         \n",
      "[32] \"    java.lang.Thread.run(Thread.java:748)\"                                                                   \n",
      "\n"
     ]
    },
    {
     "ename": "ERROR",
     "evalue": "Error in .h2o.doSafeREST(h2oRestApiVersion = h2oRestApiVersion, urlSuffix = page, : \n\nERROR MESSAGE:\n\nXGBoost is currently only supported in single-node mode.\n\n\n",
     "output_type": "error",
     "traceback": [
      "Error in .h2o.doSafeREST(h2oRestApiVersion = h2oRestApiVersion, urlSuffix = page, : \n\nERROR MESSAGE:\n\nXGBoost is currently only supported in single-node mode.\n\n\nTraceback:\n",
      "1. h2o.xgboost(y = \"annual_inc\", training_frame = h2o.na_omit(reg_split[[1]]), \n .     validation_frame = h2o.na_omit(reg_split[[2]]), ntrees = 100, \n .     max_depth = 6, stopping_rounds = 10, stopping_metric = \"RMSE\")",
      "2. .h2o.modelJob(\"xgboost\", parms, h2oRestApiVersion = 3, verbose = verbose)",
      "3. .h2o.startModelJob(algo, params, h2oRestApiVersion)",
      "4. .h2o.__remoteSend(method = \"POST\", .h2o.__MODEL_BUILDERS(algo), \n .     .params = param_values, h2oRestApiVersion = h2oRestApiVersion)",
      "5. .h2o.doSafeREST(h2oRestApiVersion = h2oRestApiVersion, urlSuffix = page, \n .     parms = .params, method = method)",
      "6. stop(msg)"
     ]
    }
   ],
   "source": [
    "xgbmodel <- h2o.xgboost(y='annual_inc', training_frame=h2o.na_omit(reg_split[[1]]), validation_frame=h2o.na_omit(reg_split[[2]]), \n",
    "                        ntrees=100, max_depth=6, stopping_rounds=10, stopping_metric='RMSE')"
   ]
  },
  {
   "cell_type": "code",
   "execution_count": 45,
   "metadata": {},
   "outputs": [
    {
     "data": {
      "text/plain": [
       "$cross_validation_models\n",
       "NULL\n",
       "\n",
       "$cross_validation_predictions\n",
       "NULL\n",
       "\n",
       "$cross_validation_holdout_predictions_frame_id\n",
       "NULL\n",
       "\n",
       "$cross_validation_fold_assignment_frame_id\n",
       "NULL\n",
       "\n",
       "$model_summary\n",
       "Model Summary: \n",
       "  number_of_trees\n",
       "1             100\n",
       "\n",
       "$scoring_history\n",
       "Scoring History: \n",
       "             timestamp   duration number_of_trees training_rmse training_mae\n",
       "1  2017-10-19 18:57:03  0.120 sec               0   82780.39361  74514.21826\n",
       "2  2017-10-19 18:57:05  1.973 sec               1   62254.76889  52254.97905\n",
       "3  2017-10-19 18:57:06  2.789 sec               2   49029.49273  37760.60498\n",
       "4  2017-10-19 18:57:07  3.451 sec               3   40883.53822  29799.97913\n",
       "5  2017-10-19 18:57:07  4.227 sec               4   36125.66751  25977.62520\n",
       "6  2017-10-19 18:57:12  8.443 sec              13   29815.21733  22913.43388\n",
       "7  2017-10-19 18:57:16 12.533 sec              23   29236.52046  22521.44841\n",
       "8  2017-10-19 18:57:20 16.728 sec              33   28980.02088  22309.29443\n",
       "9  2017-10-19 18:57:24 20.771 sec              43   28741.24598  22108.36284\n",
       "10 2017-10-19 18:57:28 24.846 sec              53   28527.90289  21930.76901\n",
       "11 2017-10-19 18:57:32 28.918 sec              63   28351.34193  21779.03532\n",
       "12 2017-10-19 18:57:36 33.053 sec              73   28215.73535  21661.57734\n",
       "13 2017-10-19 18:57:40 37.134 sec              83   28050.31644  21521.97250\n",
       "14 2017-10-19 18:57:44 41.199 sec              93   27916.65699  21401.67887\n",
       "15 2017-10-19 18:57:47 44.100 sec             100   27832.19789  21324.94792\n",
       "   training_deviance validation_rmse validation_mae validation_deviance\n",
       "1   6852593566.16530     83485.06214    75167.84215    6969755601.14691\n",
       "2   3875656249.17774     62961.67197    52874.35592    3964172136.81710\n",
       "3   2403891157.53075     49721.81934    38331.37910    2472259318.64136\n",
       "4   1671463697.33658     41606.82593    30346.50968    1731127964.36760\n",
       "5   1305063853.15976     36885.76638    26506.85373    1360559761.27223\n",
       "6    888947184.31085     30811.14984    23623.34997     949326954.70849\n",
       "7    854774128.62650     30580.03074    23498.78744     935138279.98471\n",
       "8    839841610.22503     30510.04529    23419.16212     930862863.41359\n",
       "9    826059220.68107     30493.09012    23392.22865     929828544.85762\n",
       "10   813841243.24909     30466.20921    23358.99176     928189903.35871\n",
       "11   803798589.17167     30440.90348    23329.00168     926648604.72267\n",
       "12   796127721.18610     30434.56640    23311.87926     926262831.98595\n",
       "13   786820252.19965     30428.95327    23300.08710     925921197.15318\n",
       "14   779339737.28536     30441.85266    23300.69831     926706393.15511\n",
       "15   774631239.43770     30444.65155    23293.81994     926876808.13217\n",
       "\n",
       "$training_metrics\n",
       "H2ORegressionMetrics: xgboost\n",
       "** Reported on training data. **\n",
       "** Metrics reported on training frame **\n",
       "\n",
       "MSE:  774631239\n",
       "RMSE:  27832.2\n",
       "MAE:  21324.95\n",
       "RMSLE:  0.4567238\n",
       "Mean Residual Deviance :  774631239\n",
       "\n",
       "\n",
       "$validation_metrics\n",
       "H2ORegressionMetrics: xgboost\n",
       "** Reported on validation data. **\n",
       "** Metrics reported on validation frame **\n",
       "\n",
       "MSE:  926876808\n",
       "RMSE:  30444.65\n",
       "MAE:  23293.82\n",
       "RMSLE:  0.4415186\n",
       "Mean Residual Deviance :  926876808\n",
       "\n",
       "\n",
       "$cross_validation_metrics\n",
       "H2ORegressionMetrics: xgboost\n",
       "** Reported on cross-validation data. **\n",
       "\n",
       "MSE:  \n",
       "RMSE:  \n",
       "MAE:  \n",
       "RMSLE:  \n",
       "Mean Residual Deviance :  \n",
       "\n",
       "\n",
       "$cross_validation_metrics_summary\n",
       "NULL\n",
       "\n",
       "$status\n",
       "NULL\n",
       "\n",
       "$start_time\n",
       "[1] 1.508439e+12\n",
       "\n",
       "$end_time\n",
       "[1] 1.508439e+12\n",
       "\n",
       "$run_time\n",
       "[1] 44258\n",
       "\n",
       "$help\n",
       "$help$cross_validation_metrics_summary\n",
       "[1] \"Cross-validation model metrics summary\"\n",
       "\n",
       "$help$run_time\n",
       "[1] \"Runtime in milliseconds\"\n",
       "\n",
       "$help$status\n",
       "[1] \"Job status\"\n",
       "\n",
       "$help$domains\n",
       "[1] \"Domains for categorical columns\"\n",
       "\n",
       "$help$model_category\n",
       "[1] \"Category of the model (e.g., Binomial)\"\n",
       "\n",
       "$help$`__meta`\n",
       "[1] \"Metadata on this schema instance, to make it self-describing.\"\n",
       "\n",
       "$help$variable_importances\n",
       "[1] \"Variable Importances\"\n",
       "\n",
       "$help$model_summary\n",
       "[1] \"Model summary\"\n",
       "\n",
       "$help$scoring_history\n",
       "[1] \"Scoring history\"\n",
       "\n",
       "$help$help\n",
       "[1] \"Help information for output fields\"\n",
       "\n",
       "$help$end_time\n",
       "[1] \"End time in milliseconds\"\n",
       "\n",
       "$help$names\n",
       "[1] \"Column names\"\n",
       "\n",
       "$help$cross_validation_fold_assignment_frame_id\n",
       "[1] \"Cross-validation fold assignment (each row is assigned to one holdout fold)\"\n",
       "\n",
       "$help$start_time\n",
       "[1] \"Start time in milliseconds\"\n",
       "\n",
       "$help$training_metrics\n",
       "[1] \"Training data model metrics\"\n",
       "\n",
       "$help$cross_validation_models\n",
       "[1] \"Cross-validation models (model ids)\"\n",
       "\n",
       "$help$cross_validation_metrics\n",
       "[1] \"Cross-validation model metrics\"\n",
       "\n",
       "$help$cross_validation_predictions\n",
       "[1] \"Cross-validation predictions, one per cv model (deprecated, use cross_validation_holdout_predictions_frame_id instead)\"\n",
       "\n",
       "$help$cross_validation_holdout_predictions_frame_id\n",
       "[1] \"Cross-validation holdout predictions (full out-of-sample predictions on training data)\"\n",
       "\n",
       "$help$validation_metrics\n",
       "[1] \"Validation data model metrics\"\n",
       "\n",
       "\n",
       "$variable_importances\n",
       "Variable Importances: \n",
       "  variable relative_importance scaled_importance percentage\n",
       "1       C1          686.000000          1.000000   0.144451\n",
       "2       C2          228.000000          0.332362   0.048010\n",
       "3       C3          162.000000          0.236152   0.034112\n",
       "4       C4          132.000000          0.192420   0.027795\n",
       "5       C5          117.000000          0.170554   0.024637\n",
       "\n",
       "---\n",
       "   variable relative_importance scaled_importance percentage\n",
       "45      C39           56.000000          0.081633   0.011792\n",
       "46      C44           55.000000          0.080175   0.011581\n",
       "47      C48           55.000000          0.080175   0.011581\n",
       "48      C36           53.000000          0.077259   0.011160\n",
       "49      C32           51.000000          0.074344   0.010739\n",
       "50      C29           44.000000          0.064140   0.009265\n"
      ]
     },
     "metadata": {},
     "output_type": "display_data"
    }
   ],
   "source": [
    "xgbmodel@model"
   ]
  },
  {
   "cell_type": "code",
   "execution_count": 49,
   "metadata": {},
   "outputs": [
    {
     "data": {
      "text/plain": [
       "H2ORegressionMetrics: xgboost\n",
       "** Reported on validation data. **\n",
       "** Metrics reported on validation frame **\n",
       "\n",
       "MSE:  926876808\n",
       "RMSE:  30444.65\n",
       "MAE:  23293.82\n",
       "RMSLE:  0.4415186\n",
       "Mean Residual Deviance :  926876808\n"
      ]
     },
     "metadata": {},
     "output_type": "display_data"
    }
   ],
   "source": [
    "xgbmodel@model$validation_metrics"
   ]
  },
  {
   "cell_type": "code",
   "execution_count": 50,
   "metadata": {},
   "outputs": [],
   "source": [
    "learn_curve <- xgbmodel@model$scoring_history[,c('number_of_trees','training_rmse','validation_rmse')]"
   ]
  },
  {
   "cell_type": "code",
   "execution_count": 52,
   "metadata": {},
   "outputs": [
    {
     "data": {},
     "metadata": {},
     "output_type": "display_data"
    },
    {
     "data": {
      "image/png": "[encoded data removed]",
      "text/plain": [
       "plot without title"
      ]
     },
     "metadata": {},
     "output_type": "display_data"
    }
   ],
   "source": [
    "library(ggplot2)\n",
    "library(repr)\n",
    "options(repr.plot.width=4, repr.plot.height=3)\n",
    "ggplot(data = learn_curve) + geom_path(mapping = aes(x = number_of_trees, y = training_rmse)) + geom_path(mapping = aes(x = number_of_trees, y = validation_rmse))"
   ]
  },
  {
   "cell_type": "markdown",
   "metadata": {},
   "source": [
    "We could improve our model by tuning a number of hyperparameters, and subsequently by <em>ensembling</em>. We will refrain from doing that here, as we will be doing so in section 5."
   ]
  },
  {
   "cell_type": "code",
   "execution_count": null,
   "metadata": {},
   "outputs": [],
   "source": []
  }
 ],
 "metadata": {
  "kernelspec": {
   "display_name": "R",
   "language": "R",
   "name": "ir"
  },
  "language_info": {
   "codemirror_mode": "r",
   "file_extension": ".r",
   "mimetype": "text/x-r-source",
   "name": "R",
   "pygments_lexer": "r",
   "version": "3.4.1"
  }
 },
 "nbformat": 4,
 "nbformat_minor": 2
}
